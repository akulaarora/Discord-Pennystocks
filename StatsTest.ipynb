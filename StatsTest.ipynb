{
 "cells": [
  {
   "cell_type": "code",
   "execution_count": 132,
   "metadata": {},
   "outputs": [],
   "source": [
    "import numpy as np\n",
    "import matplotlib.pyplot as plt"
   ]
  },
  {
   "cell_type": "code",
   "execution_count": 133,
   "metadata": {},
   "outputs": [],
   "source": [
    "# IDK RANDOM VALUES\n",
    "MU = 0\n",
    "SIGMA = 0.1 # How much does a stock move per tick?\n",
    "TICK_NUM = 1000\n",
    "\n",
    "LIMIT_LOSS = -0.1\n",
    "LIMIT_GAIN = 0.1\n",
    "\n",
    "INITIAL = 10.0 # $10 investment"
   ]
  },
  {
   "cell_type": "code",
   "execution_count": 134,
   "metadata": {},
   "outputs": [
    {
     "data": {
      "image/png": "[encoded data removed]",
      "text/plain": [
       "<Figure size 432x288 with 1 Axes>"
      ]
     },
     "metadata": {
      "needs_background": "light"
     },
     "output_type": "display_data"
    }
   ],
   "source": [
    "# MODEL TEST\n",
    "s = np.random.normal(MU, SIGMA, TICK_NUM) # THIS IS FLAWED\n",
    "# % DOWN HAS A GREATER EFFECT THAN % UP\n",
    "# RESEARCH THIS\n",
    "\n",
    "count, bins, ignored = plt.hist(s, 30, density = True)\n",
    "plt.plot(bins,  1/(SIGMA * np.sqrt(2 * np.pi)) * np.exp( - (bins - MU)**2 / (2 * SIGMA**2)),\n",
    "         linewidth = 2, color='r')\n",
    "plt.show()"
   ]
  },
  {
   "cell_type": "code",
   "execution_count": 135,
   "metadata": {},
   "outputs": [],
   "source": [
    "def run_outcome():\n",
    "    start = INITIAL\n",
    "    num_ticks = 0\n",
    "    s = np.random.normal(MU, SIGMA, TICK_NUM)\n",
    "    \n",
    "    while (start > INITIAL*(1+LIMIT_LOSS)) and \\\n",
    "          (start < INITIAL*(1+LIMIT_GAIN)) and \\\n",
    "          (num_ticks != TICK_NUM):\n",
    "        change = s[num_ticks]\n",
    "        start *= (1 + change)\n",
    "        #print(\"Current amount: \" + str(start) + \" | \" + \"% Change: \" + str(change * 100) + \"%\")\n",
    "        num_ticks += 1\n",
    "    \n",
    "    return start, num_ticks"
   ]
  },
  {
   "cell_type": "code",
   "execution_count": 136,
   "metadata": {},
   "outputs": [
    {
     "name": "stdout",
     "output_type": "stream",
     "text": [
      "Average: 9.987399010093226\n",
      "MIN: 5.353424862383478\n",
      "MAX: 14.801181604054456\n"
     ]
    }
   ],
   "source": [
    "outcomes = []\n",
    "for x in range(10000):\n",
    "    x = run_outcome()\n",
    "    outcomes.append(x[0])\n",
    "    # (x[0]/INITIAL - 1) * 100\n",
    "print(\"Average: \" + str(sum(outcomes) / len(outcomes)))    \n",
    "print(\"MIN: \" + str(min(outcomes)))\n",
    "print(\"MAX: \" + str(max(outcomes)))"
   ]
  },
  {
   "cell_type": "code",
   "execution_count": null,
   "metadata": {},
   "outputs": [],
   "source": []
  },
  {
   "cell_type": "code",
   "execution_count": null,
   "metadata": {},
   "outputs": [],
   "source": []
  },
  {
   "cell_type": "code",
   "execution_count": null,
   "metadata": {},
   "outputs": [],
   "source": []
  }
 ],
 "metadata": {
  "kernelspec": {
   "display_name": "Python 3",
   "language": "python",
   "name": "python3"
  },
  "language_info": {
   "codemirror_mode": {
    "name": "ipython",
    "version": 3
   },
   "file_extension": ".py",
   "mimetype": "text/x-python",
   "name": "python",
   "nbconvert_exporter": "python",
   "pygments_lexer": "ipython3",
   "version": "3.7.3"
  }
 },
 "nbformat": 4,
 "nbformat_minor": 2
}
